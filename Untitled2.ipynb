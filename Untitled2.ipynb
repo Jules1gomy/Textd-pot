{
  "nbformat": 4,
  "nbformat_minor": 0,
  "metadata": {
    "colab": {
      "provenance": [],
      "authorship_tag": "ABX9TyM+sGQbgebIkjCNNe7eE3ed",
      "include_colab_link": true
    },
    "kernelspec": {
      "name": "python3",
      "display_name": "Python 3"
    },
    "language_info": {
      "name": "python"
    }
  },
  "cells": [
    {
      "cell_type": "markdown",
      "metadata": {
        "id": "view-in-github",
        "colab_type": "text"
      },
      "source": [
        "<a href=\"https://colab.research.google.com/github/Jules1gomy/Textd-pot/blob/master/Untitled2.ipynb\" target=\"_parent\"><img src=\"https://colab.research.google.com/assets/colab-badge.svg\" alt=\"Open In Colab\"/></a>"
      ]
    },
    {
      "cell_type": "code",
      "execution_count": 21,
      "metadata": {
        "colab": {
          "base_uri": "https://localhost:8080/"
        },
        "id": "zqLmZ_Ea-t8l",
        "outputId": "f92e57a9-ea6a-41dd-9da6-d8b3c0890ce6"
      },
      "outputs": [
        {
          "output_type": "stream",
          "name": "stdout",
          "text": [
            "Bienvenue dans Python Pizza Deliveries\n",
            "\n",
            "Quelle taille de pizza souhaitez-vous? p, m,g\n",
            "p\n",
            "voulez vous des pepperoni sur votre pizza? (oui/non)\n",
            "oui\n",
            "voulez vous du fromage supplémentaire? (oui/non)\n",
            "oui\n",
            "prix de la pizza est : 15$\n"
          ]
        }
      ],
      "source": [
        "print(\"Bienvenue dans Python Pizza Deliveries\\n\")\n",
        "\n",
        "facture = 0\n",
        "taille = input(\"Quelle taille de pizza souhaitez-vous? p, m,g\\n\")\n",
        "if taille == \"p\":\n",
        "  facture+=15\n",
        "elif taille == \"m\":\n",
        "  facture += 20\n",
        "elif taille == \"g\":\n",
        "  facture += 25\n",
        "else:\n",
        "    print (\"taille non valide\")\n",
        "    exit()\n",
        "\n",
        "add_pepperoni = input(\"voulez vous des pepperoni sur votre pizza? (oui/non)\\n\")\n",
        "if \"add_pepperoni\" == \"oui\":\n",
        "  if \"taille\" == 'p':\n",
        "    facture += 2\n",
        "  else:\n",
        "    facture += 3\n",
        "  print(facture)\n",
        "\n",
        "extra_chese = input(\"voulez vous du fromage supplémentaire? (oui/non)\\n\")\n",
        "if \"extra_chese\" == \"oui\":\n",
        "    facture += 1\n",
        "    print (facture)\n",
        "\n",
        "\n",
        "print(f\"prix de la pizza est : {facture}$\")"
      ]
    }
  ]
}